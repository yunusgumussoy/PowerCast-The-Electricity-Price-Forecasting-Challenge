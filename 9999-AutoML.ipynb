{
 "cells": [
  {
   "cell_type": "code",
   "execution_count": 1,
   "id": "1579f98e-7d62-458e-b5b1-c40d2b0dd825",
   "metadata": {},
   "outputs": [],
   "source": [
    "# pip install FLAML"
   ]
  },
  {
   "cell_type": "code",
   "execution_count": null,
   "id": "81897d73-ce81-44eb-9723-76b1276511a8",
   "metadata": {},
   "outputs": [],
   "source": [
    "import pandas as pd\n",
    "import numpy as np\n",
    "import matplotlib.pyplot as plt\n",
    "import seaborn as sns\n",
    "from flaml import AutoML\n",
    "from sklearn.metrics import mean_squared_error  \n",
    "\n",
    "# Load dataset\n",
    "data = pd.read_csv(\"data.csv\")\n",
    "\n",
    "# Select numeric columns only\n",
    "numeric_data = data.select_dtypes(include=['number'])\n",
    "\n",
    "# Rename columns to remove special characters before dropping columns \n",
    "numeric_data = numeric_data.rename(columns=lambda x: x.replace('[', '').replace(']', '').replace('<', '').replace(' ', '_'))\n",
    "\n",
    "# Split data chronologically (80% training, 20% testing)\n",
    "train_size = int(0.8 * len(numeric_data))\n",
    "train_data = numeric_data[:train_size]\n",
    "test_data = numeric_data[train_size:]\n",
    "\n",
    "# Target column (Make sure the name matches after renaming)\n",
    "target_column = 'Day-ahead_prices_Germany/Luxembourg_€/MWh_Original_resolutions'\n",
    "\n",
    "# Prepare features and target\n",
    "features_train = train_data.drop(columns=[target_column])\n",
    "target_train = train_data[target_column]\n",
    "\n",
    "features_test = test_data.drop(columns=[target_column])\n",
    "target_test = test_data[target_column]\n",
    "\n",
    "# Initialize AutoML \n",
    "automl = AutoML()\n",
    "\n",
    "# Configure AutoML settings\n",
    "automl_settings = {\n",
    "    \"time_budget\": 180,  # Total time in seconds for AutoML\n",
    "    \"metric\": \"rmse\",  # Target metric\n",
    "    \"task\": \"regression\",  # Task type\n",
    "    \"log_file_name\": \"automl.log\",  # Log file\n",
    "    \"estimator_list\": [\"catboost\", \"lgbm\", \"rf\", \"xgboost\"],  # Model list\n",
    "    \"n_jobs\": -1  # Use all available CPUs\n",
    "}\n",
    "\n",
    "# Run FLAML AutoML\n",
    "automl.fit(features_train, target_train, **automl_settings)\n",
    "\n",
    "# Print the best model and its parameters\n",
    "print(\"Best Model:\", automl.model)  \n",
    "print(\"Best Model Hyperparameters:\", automl.best_config) \n",
    "\n",
    "# Make predictions with the best model\n",
    "predictions = automl.predict(features_test)\n",
    "\n",
    "# Evaluate the model\n",
    "mse = mean_squared_error(target_test, predictions)\n",
    "rmse = np.sqrt(mse)\n",
    "print(f'RMSE: {rmse}')\n"
   ]
  }
 ],
 "metadata": {
  "kernelspec": {
   "display_name": "Python 3 (ipykernel)",
   "language": "python",
   "name": "python3"
  },
  "language_info": {
   "codemirror_mode": {
    "name": "ipython",
    "version": 3
   },
   "file_extension": ".py",
   "mimetype": "text/x-python",
   "name": "python",
   "nbconvert_exporter": "python",
   "pygments_lexer": "ipython3",
   "version": "3.12.4"
  }
 },
 "nbformat": 4,
 "nbformat_minor": 5
}
